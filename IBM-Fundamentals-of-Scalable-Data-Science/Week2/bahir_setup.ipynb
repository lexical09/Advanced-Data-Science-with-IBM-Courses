{
 "cells": [
  {
   "cell_type": "markdown",
   "metadata": {},
   "source": [
    "### Please run the following cell once.\n",
    "\n",
    "This will install the Apache Bahir connector within your Project/Apache Spark service. If you restart the kernel or start a new notebook in the same project you can use Apache Bahir for connecting to the Cloudant/Apache CouchDB service. Please note that this will install a patched version of the connector (since the pull request hasn't been merged with the trunk yet).\n",
    "\n",
    "You'll find more information on the patch here:\n",
    "\n",
    "https://github.com/apache/bahir/pull/49 https://issues.apache.org/jira/browse/BAHIR-130\n"
   ]
  },
  {
   "cell_type": "code",
   "execution_count": 1,
   "metadata": {},
   "outputs": [
    {
     "name": "stdout",
     "output_type": "stream",
     "text": [
      "Pixiedust database opened successfully\n",
      "Table VERSION_TRACKER created successfully\n",
      "Table METRICS_TRACKER created successfully\n",
      "\n",
      "Share anonymous install statistics? (opt-out instructions)\n",
      "\n",
      "PixieDust will record metadata on its environment the next time the package is installed or updated. The data is anonymized and aggregated to help plan for future releases, and records only the following values:\n",
      "\n",
      "{\n",
      "   \"data_sent\": currentDate,\n",
      "   \"runtime\": \"python\",\n",
      "   \"application_version\": currentPixiedustVersion,\n",
      "   \"space_id\": nonIdentifyingUniqueId,\n",
      "   \"config\": {\n",
      "       \"repository_id\": \"https://github.com/ibm-watson-data-lab/pixiedust\",\n",
      "       \"target_runtimes\": [\"Data Science Experience\"],\n",
      "       \"event_id\": \"web\",\n",
      "       \"event_organizer\": \"dev-journeys\"\n",
      "   }\n",
      "}\n",
      "You can opt out by calling pixiedust.optOut() in a new cell.\n"
     ]
    },
    {
     "data": {
      "text/html": [
       "\n",
       "        <div style=\"margin:10px\">\n",
       "            <a href=\"https://github.com/ibm-watson-data-lab/pixiedust\" target=\"_new\">\n",
       "                <img src=\"https://github.com/ibm-watson-data-lab/pixiedust/raw/master/docs/_static/pd_icon32.png\" style=\"float:left;margin-right:10px\"/>\n",
       "            </a>\n",
       "            <span>Pixiedust version 1.1.9</span>\n",
       "        </div>\n",
       "        "
      ],
      "text/plain": [
       "<IPython.core.display.HTML object>"
      ]
     },
     "metadata": {},
     "output_type": "display_data"
    },
    {
     "name": "stdout",
     "output_type": "stream",
     "text": [
      "Pixiedust runtime updated. Please restart kernel\n",
      "Table SPARK_PACKAGES created successfully\n",
      "Table USER_PREFERENCES created successfully\n",
      "Table service_connections created successfully\n",
      "Downloading package https://github.com/romeokienzler/developerWorks/raw/master/coursera/spark-sql-cloudant_2.11-2.3.0-SNAPSHOT.jar to /gpfs/fs01/user/s381-b331ce22a78de0-820fdb2800e9/data/libs/spark-sql-cloudant_2.11-2.3.0-SNAPSHOT.jar\n"
     ]
    },
    {
     "data": {
      "text/html": [
       "\n",
       "                <div>\n",
       "                    <span id=\"pm_label15e0d515\">Starting download...</span>\n",
       "                    <progress id=\"pm_progress15e0d515\" max=\"100\" value=\"0\" style=\"width:200px\"></progress>\n",
       "                </div>"
      ],
      "text/plain": [
       "<IPython.core.display.HTML object>"
      ]
     },
     "metadata": {},
     "output_type": "display_data"
    },
    {
     "data": {
      "application/javascript": [
       "\n",
       "                    $(\"#pm_label15e0d515\").text(\"Downloaded 8192 of 153353 bytes\");\n",
       "                    $(\"#pm_progress15e0d515\").attr(\"value\", 5.34);\n",
       "                "
      ],
      "text/plain": [
       "<IPython.core.display.Javascript object>"
      ]
     },
     "metadata": {},
     "output_type": "display_data"
    },
    {
     "data": {
      "application/javascript": [
       "\n",
       "                    $(\"#pm_label15e0d515\").text(\"Downloaded 16384 of 153353 bytes\");\n",
       "                    $(\"#pm_progress15e0d515\").attr(\"value\", 10.68);\n",
       "                "
      ],
      "text/plain": [
       "<IPython.core.display.Javascript object>"
      ]
     },
     "metadata": {},
     "output_type": "display_data"
    },
    {
     "data": {
      "application/javascript": [
       "\n",
       "                    $(\"#pm_label15e0d515\").text(\"Downloaded 24576 of 153353 bytes\");\n",
       "                    $(\"#pm_progress15e0d515\").attr(\"value\", 16.03);\n",
       "                "
      ],
      "text/plain": [
       "<IPython.core.display.Javascript object>"
      ]
     },
     "metadata": {},
     "output_type": "display_data"
    },
    {
     "data": {
      "application/javascript": [
       "\n",
       "                    $(\"#pm_label15e0d515\").text(\"Downloaded 32768 of 153353 bytes\");\n",
       "                    $(\"#pm_progress15e0d515\").attr(\"value\", 21.37);\n",
       "                "
      ],
      "text/plain": [
       "<IPython.core.display.Javascript object>"
      ]
     },
     "metadata": {},
     "output_type": "display_data"
    },
    {
     "data": {
      "application/javascript": [
       "\n",
       "                    $(\"#pm_label15e0d515\").text(\"Downloaded 40960 of 153353 bytes\");\n",
       "                    $(\"#pm_progress15e0d515\").attr(\"value\", 26.71);\n",
       "                "
      ],
      "text/plain": [
       "<IPython.core.display.Javascript object>"
      ]
     },
     "metadata": {},
     "output_type": "display_data"
    },
    {
     "data": {
      "application/javascript": [
       "\n",
       "                    $(\"#pm_label15e0d515\").text(\"Downloaded 49152 of 153353 bytes\");\n",
       "                    $(\"#pm_progress15e0d515\").attr(\"value\", 32.05);\n",
       "                "
      ],
      "text/plain": [
       "<IPython.core.display.Javascript object>"
      ]
     },
     "metadata": {},
     "output_type": "display_data"
    },
    {
     "data": {
      "application/javascript": [
       "\n",
       "                    $(\"#pm_label15e0d515\").text(\"Downloaded 57344 of 153353 bytes\");\n",
       "                    $(\"#pm_progress15e0d515\").attr(\"value\", 37.39);\n",
       "                "
      ],
      "text/plain": [
       "<IPython.core.display.Javascript object>"
      ]
     },
     "metadata": {},
     "output_type": "display_data"
    },
    {
     "data": {
      "application/javascript": [
       "\n",
       "                    $(\"#pm_label15e0d515\").text(\"Downloaded 65536 of 153353 bytes\");\n",
       "                    $(\"#pm_progress15e0d515\").attr(\"value\", 42.74);\n",
       "                "
      ],
      "text/plain": [
       "<IPython.core.display.Javascript object>"
      ]
     },
     "metadata": {},
     "output_type": "display_data"
    },
    {
     "data": {
      "application/javascript": [
       "\n",
       "                    $(\"#pm_label15e0d515\").text(\"Downloaded 73728 of 153353 bytes\");\n",
       "                    $(\"#pm_progress15e0d515\").attr(\"value\", 48.08);\n",
       "                "
      ],
      "text/plain": [
       "<IPython.core.display.Javascript object>"
      ]
     },
     "metadata": {},
     "output_type": "display_data"
    },
    {
     "data": {
      "application/javascript": [
       "\n",
       "                    $(\"#pm_label15e0d515\").text(\"Downloaded 81920 of 153353 bytes\");\n",
       "                    $(\"#pm_progress15e0d515\").attr(\"value\", 53.42);\n",
       "                "
      ],
      "text/plain": [
       "<IPython.core.display.Javascript object>"
      ]
     },
     "metadata": {},
     "output_type": "display_data"
    },
    {
     "data": {
      "application/javascript": [
       "\n",
       "                    $(\"#pm_label15e0d515\").text(\"Downloaded 90112 of 153353 bytes\");\n",
       "                    $(\"#pm_progress15e0d515\").attr(\"value\", 58.76);\n",
       "                "
      ],
      "text/plain": [
       "<IPython.core.display.Javascript object>"
      ]
     },
     "metadata": {},
     "output_type": "display_data"
    },
    {
     "data": {
      "application/javascript": [
       "\n",
       "                    $(\"#pm_label15e0d515\").text(\"Downloaded 98304 of 153353 bytes\");\n",
       "                    $(\"#pm_progress15e0d515\").attr(\"value\", 64.1);\n",
       "                "
      ],
      "text/plain": [
       "<IPython.core.display.Javascript object>"
      ]
     },
     "metadata": {},
     "output_type": "display_data"
    },
    {
     "data": {
      "application/javascript": [
       "\n",
       "                    $(\"#pm_label15e0d515\").text(\"Downloaded 106496 of 153353 bytes\");\n",
       "                    $(\"#pm_progress15e0d515\").attr(\"value\", 69.45);\n",
       "                "
      ],
      "text/plain": [
       "<IPython.core.display.Javascript object>"
      ]
     },
     "metadata": {},
     "output_type": "display_data"
    },
    {
     "data": {
      "application/javascript": [
       "\n",
       "                    $(\"#pm_label15e0d515\").text(\"Downloaded 114688 of 153353 bytes\");\n",
       "                    $(\"#pm_progress15e0d515\").attr(\"value\", 74.79);\n",
       "                "
      ],
      "text/plain": [
       "<IPython.core.display.Javascript object>"
      ]
     },
     "metadata": {},
     "output_type": "display_data"
    },
    {
     "data": {
      "application/javascript": [
       "\n",
       "                    $(\"#pm_label15e0d515\").text(\"Downloaded 122880 of 153353 bytes\");\n",
       "                    $(\"#pm_progress15e0d515\").attr(\"value\", 80.13);\n",
       "                "
      ],
      "text/plain": [
       "<IPython.core.display.Javascript object>"
      ]
     },
     "metadata": {},
     "output_type": "display_data"
    },
    {
     "data": {
      "application/javascript": [
       "\n",
       "                    $(\"#pm_label15e0d515\").text(\"Downloaded 131072 of 153353 bytes\");\n",
       "                    $(\"#pm_progress15e0d515\").attr(\"value\", 85.47);\n",
       "                "
      ],
      "text/plain": [
       "<IPython.core.display.Javascript object>"
      ]
     },
     "metadata": {},
     "output_type": "display_data"
    },
    {
     "data": {
      "application/javascript": [
       "\n",
       "                    $(\"#pm_label15e0d515\").text(\"Downloaded 139264 of 153353 bytes\");\n",
       "                    $(\"#pm_progress15e0d515\").attr(\"value\", 90.81);\n",
       "                "
      ],
      "text/plain": [
       "<IPython.core.display.Javascript object>"
      ]
     },
     "metadata": {},
     "output_type": "display_data"
    },
    {
     "data": {
      "application/javascript": [
       "\n",
       "                    $(\"#pm_label15e0d515\").text(\"Downloaded 147456 of 153353 bytes\");\n",
       "                    $(\"#pm_progress15e0d515\").attr(\"value\", 96.15);\n",
       "                "
      ],
      "text/plain": [
       "<IPython.core.display.Javascript object>"
      ]
     },
     "metadata": {},
     "output_type": "display_data"
    },
    {
     "data": {
      "application/javascript": [
       "\n",
       "                    $(\"#pm_label15e0d515\").text(\"Downloaded 153353 of 153353 bytes\");\n",
       "                    $(\"#pm_progress15e0d515\").attr(\"value\", 100.0);\n",
       "                "
      ],
      "text/plain": [
       "<IPython.core.display.Javascript object>"
      ]
     },
     "metadata": {},
     "output_type": "display_data"
    },
    {
     "name": "stdout",
     "output_type": "stream",
     "text": [
      "Package https://github.com/romeokienzler/developerWorks/raw/master/coursera/spark-sql-cloudant_2.11-2.3.0-SNAPSHOT.jar downloaded successfully\n",
      "\u001b[31mPlease restart Kernel to complete installation of the new package\u001b[0m\n",
      "Successfully added package https://github.com/romeokienzler/developerWorks/raw/master/coursera/spark-sql-cloudant_2.11-2.3.0-SNAPSHOT.jar\n",
      "Downloading package com.typesafe:config:1.3.1 to /gpfs/fs01/user/s381-b331ce22a78de0-820fdb2800e9/data/libs/config-1.3.1.jar\n"
     ]
    },
    {
     "data": {
      "text/html": [
       "\n",
       "                <div>\n",
       "                    <span id=\"pm_labelee21d54f\">Starting download...</span>\n",
       "                    <progress id=\"pm_progressee21d54f\" max=\"100\" value=\"0\" style=\"width:200px\"></progress>\n",
       "                </div>"
      ],
      "text/plain": [
       "<IPython.core.display.HTML object>"
      ]
     },
     "metadata": {},
     "output_type": "display_data"
    },
    {
     "data": {
      "application/javascript": [
       "\n",
       "                    $(\"#pm_labelee21d54f\").text(\"Downloaded 8192 of 282549 bytes\");\n",
       "                    $(\"#pm_progressee21d54f\").attr(\"value\", 2.9);\n",
       "                "
      ],
      "text/plain": [
       "<IPython.core.display.Javascript object>"
      ]
     },
     "metadata": {},
     "output_type": "display_data"
    },
    {
     "data": {
      "application/javascript": [
       "\n",
       "                    $(\"#pm_labelee21d54f\").text(\"Downloaded 16384 of 282549 bytes\");\n",
       "                    $(\"#pm_progressee21d54f\").attr(\"value\", 5.8);\n",
       "                "
      ],
      "text/plain": [
       "<IPython.core.display.Javascript object>"
      ]
     },
     "metadata": {},
     "output_type": "display_data"
    },
    {
     "data": {
      "application/javascript": [
       "\n",
       "                    $(\"#pm_labelee21d54f\").text(\"Downloaded 24576 of 282549 bytes\");\n",
       "                    $(\"#pm_progressee21d54f\").attr(\"value\", 8.7);\n",
       "                "
      ],
      "text/plain": [
       "<IPython.core.display.Javascript object>"
      ]
     },
     "metadata": {},
     "output_type": "display_data"
    },
    {
     "data": {
      "application/javascript": [
       "\n",
       "                    $(\"#pm_labelee21d54f\").text(\"Downloaded 32768 of 282549 bytes\");\n",
       "                    $(\"#pm_progressee21d54f\").attr(\"value\", 11.6);\n",
       "                "
      ],
      "text/plain": [
       "<IPython.core.display.Javascript object>"
      ]
     },
     "metadata": {},
     "output_type": "display_data"
    },
    {
     "data": {
      "application/javascript": [
       "\n",
       "                    $(\"#pm_labelee21d54f\").text(\"Downloaded 40960 of 282549 bytes\");\n",
       "                    $(\"#pm_progressee21d54f\").attr(\"value\", 14.5);\n",
       "                "
      ],
      "text/plain": [
       "<IPython.core.display.Javascript object>"
      ]
     },
     "metadata": {},
     "output_type": "display_data"
    },
    {
     "data": {
      "application/javascript": [
       "\n",
       "                    $(\"#pm_labelee21d54f\").text(\"Downloaded 49152 of 282549 bytes\");\n",
       "                    $(\"#pm_progressee21d54f\").attr(\"value\", 17.4);\n",
       "                "
      ],
      "text/plain": [
       "<IPython.core.display.Javascript object>"
      ]
     },
     "metadata": {},
     "output_type": "display_data"
    },
    {
     "data": {
      "application/javascript": [
       "\n",
       "                    $(\"#pm_labelee21d54f\").text(\"Downloaded 57344 of 282549 bytes\");\n",
       "                    $(\"#pm_progressee21d54f\").attr(\"value\", 20.3);\n",
       "                "
      ],
      "text/plain": [
       "<IPython.core.display.Javascript object>"
      ]
     },
     "metadata": {},
     "output_type": "display_data"
    },
    {
     "data": {
      "application/javascript": [
       "\n",
       "                    $(\"#pm_labelee21d54f\").text(\"Downloaded 65536 of 282549 bytes\");\n",
       "                    $(\"#pm_progressee21d54f\").attr(\"value\", 23.19);\n",
       "                "
      ],
      "text/plain": [
       "<IPython.core.display.Javascript object>"
      ]
     },
     "metadata": {},
     "output_type": "display_data"
    },
    {
     "data": {
      "application/javascript": [
       "\n",
       "                    $(\"#pm_labelee21d54f\").text(\"Downloaded 73728 of 282549 bytes\");\n",
       "                    $(\"#pm_progressee21d54f\").attr(\"value\", 26.09);\n",
       "                "
      ],
      "text/plain": [
       "<IPython.core.display.Javascript object>"
      ]
     },
     "metadata": {},
     "output_type": "display_data"
    },
    {
     "data": {
      "application/javascript": [
       "\n",
       "                    $(\"#pm_labelee21d54f\").text(\"Downloaded 81920 of 282549 bytes\");\n",
       "                    $(\"#pm_progressee21d54f\").attr(\"value\", 28.99);\n",
       "                "
      ],
      "text/plain": [
       "<IPython.core.display.Javascript object>"
      ]
     },
     "metadata": {},
     "output_type": "display_data"
    },
    {
     "data": {
      "application/javascript": [
       "\n",
       "                    $(\"#pm_labelee21d54f\").text(\"Downloaded 90112 of 282549 bytes\");\n",
       "                    $(\"#pm_progressee21d54f\").attr(\"value\", 31.89);\n",
       "                "
      ],
      "text/plain": [
       "<IPython.core.display.Javascript object>"
      ]
     },
     "metadata": {},
     "output_type": "display_data"
    },
    {
     "data": {
      "application/javascript": [
       "\n",
       "                    $(\"#pm_labelee21d54f\").text(\"Downloaded 98304 of 282549 bytes\");\n",
       "                    $(\"#pm_progressee21d54f\").attr(\"value\", 34.79);\n",
       "                "
      ],
      "text/plain": [
       "<IPython.core.display.Javascript object>"
      ]
     },
     "metadata": {},
     "output_type": "display_data"
    },
    {
     "data": {
      "application/javascript": [
       "\n",
       "                    $(\"#pm_labelee21d54f\").text(\"Downloaded 106496 of 282549 bytes\");\n",
       "                    $(\"#pm_progressee21d54f\").attr(\"value\", 37.69);\n",
       "                "
      ],
      "text/plain": [
       "<IPython.core.display.Javascript object>"
      ]
     },
     "metadata": {},
     "output_type": "display_data"
    },
    {
     "data": {
      "application/javascript": [
       "\n",
       "                    $(\"#pm_labelee21d54f\").text(\"Downloaded 114688 of 282549 bytes\");\n",
       "                    $(\"#pm_progressee21d54f\").attr(\"value\", 40.59);\n",
       "                "
      ],
      "text/plain": [
       "<IPython.core.display.Javascript object>"
      ]
     },
     "metadata": {},
     "output_type": "display_data"
    },
    {
     "data": {
      "application/javascript": [
       "\n",
       "                    $(\"#pm_labelee21d54f\").text(\"Downloaded 122880 of 282549 bytes\");\n",
       "                    $(\"#pm_progressee21d54f\").attr(\"value\", 43.49);\n",
       "                "
      ],
      "text/plain": [
       "<IPython.core.display.Javascript object>"
      ]
     },
     "metadata": {},
     "output_type": "display_data"
    },
    {
     "data": {
      "application/javascript": [
       "\n",
       "                    $(\"#pm_labelee21d54f\").text(\"Downloaded 131072 of 282549 bytes\");\n",
       "                    $(\"#pm_progressee21d54f\").attr(\"value\", 46.39);\n",
       "                "
      ],
      "text/plain": [
       "<IPython.core.display.Javascript object>"
      ]
     },
     "metadata": {},
     "output_type": "display_data"
    },
    {
     "data": {
      "application/javascript": [
       "\n",
       "                    $(\"#pm_labelee21d54f\").text(\"Downloaded 139264 of 282549 bytes\");\n",
       "                    $(\"#pm_progressee21d54f\").attr(\"value\", 49.29);\n",
       "                "
      ],
      "text/plain": [
       "<IPython.core.display.Javascript object>"
      ]
     },
     "metadata": {},
     "output_type": "display_data"
    },
    {
     "data": {
      "application/javascript": [
       "\n",
       "                    $(\"#pm_labelee21d54f\").text(\"Downloaded 147456 of 282549 bytes\");\n",
       "                    $(\"#pm_progressee21d54f\").attr(\"value\", 52.19);\n",
       "                "
      ],
      "text/plain": [
       "<IPython.core.display.Javascript object>"
      ]
     },
     "metadata": {},
     "output_type": "display_data"
    },
    {
     "data": {
      "application/javascript": [
       "\n",
       "                    $(\"#pm_labelee21d54f\").text(\"Downloaded 155648 of 282549 bytes\");\n",
       "                    $(\"#pm_progressee21d54f\").attr(\"value\", 55.09);\n",
       "                "
      ],
      "text/plain": [
       "<IPython.core.display.Javascript object>"
      ]
     },
     "metadata": {},
     "output_type": "display_data"
    },
    {
     "data": {
      "application/javascript": [
       "\n",
       "                    $(\"#pm_labelee21d54f\").text(\"Downloaded 163840 of 282549 bytes\");\n",
       "                    $(\"#pm_progressee21d54f\").attr(\"value\", 57.99);\n",
       "                "
      ],
      "text/plain": [
       "<IPython.core.display.Javascript object>"
      ]
     },
     "metadata": {},
     "output_type": "display_data"
    },
    {
     "data": {
      "application/javascript": [
       "\n",
       "                    $(\"#pm_labelee21d54f\").text(\"Downloaded 172032 of 282549 bytes\");\n",
       "                    $(\"#pm_progressee21d54f\").attr(\"value\", 60.89);\n",
       "                "
      ],
      "text/plain": [
       "<IPython.core.display.Javascript object>"
      ]
     },
     "metadata": {},
     "output_type": "display_data"
    },
    {
     "data": {
      "application/javascript": [
       "\n",
       "                    $(\"#pm_labelee21d54f\").text(\"Downloaded 180224 of 282549 bytes\");\n",
       "                    $(\"#pm_progressee21d54f\").attr(\"value\", 63.79);\n",
       "                "
      ],
      "text/plain": [
       "<IPython.core.display.Javascript object>"
      ]
     },
     "metadata": {},
     "output_type": "display_data"
    },
    {
     "data": {
      "application/javascript": [
       "\n",
       "                    $(\"#pm_labelee21d54f\").text(\"Downloaded 188416 of 282549 bytes\");\n",
       "                    $(\"#pm_progressee21d54f\").attr(\"value\", 66.68);\n",
       "                "
      ],
      "text/plain": [
       "<IPython.core.display.Javascript object>"
      ]
     },
     "metadata": {},
     "output_type": "display_data"
    },
    {
     "data": {
      "application/javascript": [
       "\n",
       "                    $(\"#pm_labelee21d54f\").text(\"Downloaded 196608 of 282549 bytes\");\n",
       "                    $(\"#pm_progressee21d54f\").attr(\"value\", 69.58);\n",
       "                "
      ],
      "text/plain": [
       "<IPython.core.display.Javascript object>"
      ]
     },
     "metadata": {},
     "output_type": "display_data"
    },
    {
     "data": {
      "application/javascript": [
       "\n",
       "                    $(\"#pm_labelee21d54f\").text(\"Downloaded 204800 of 282549 bytes\");\n",
       "                    $(\"#pm_progressee21d54f\").attr(\"value\", 72.48);\n",
       "                "
      ],
      "text/plain": [
       "<IPython.core.display.Javascript object>"
      ]
     },
     "metadata": {},
     "output_type": "display_data"
    },
    {
     "data": {
      "application/javascript": [
       "\n",
       "                    $(\"#pm_labelee21d54f\").text(\"Downloaded 212992 of 282549 bytes\");\n",
       "                    $(\"#pm_progressee21d54f\").attr(\"value\", 75.38);\n",
       "                "
      ],
      "text/plain": [
       "<IPython.core.display.Javascript object>"
      ]
     },
     "metadata": {},
     "output_type": "display_data"
    },
    {
     "data": {
      "application/javascript": [
       "\n",
       "                    $(\"#pm_labelee21d54f\").text(\"Downloaded 221184 of 282549 bytes\");\n",
       "                    $(\"#pm_progressee21d54f\").attr(\"value\", 78.28);\n",
       "                "
      ],
      "text/plain": [
       "<IPython.core.display.Javascript object>"
      ]
     },
     "metadata": {},
     "output_type": "display_data"
    },
    {
     "data": {
      "application/javascript": [
       "\n",
       "                    $(\"#pm_labelee21d54f\").text(\"Downloaded 229376 of 282549 bytes\");\n",
       "                    $(\"#pm_progressee21d54f\").attr(\"value\", 81.18);\n",
       "                "
      ],
      "text/plain": [
       "<IPython.core.display.Javascript object>"
      ]
     },
     "metadata": {},
     "output_type": "display_data"
    },
    {
     "data": {
      "application/javascript": [
       "\n",
       "                    $(\"#pm_labelee21d54f\").text(\"Downloaded 237568 of 282549 bytes\");\n",
       "                    $(\"#pm_progressee21d54f\").attr(\"value\", 84.08);\n",
       "                "
      ],
      "text/plain": [
       "<IPython.core.display.Javascript object>"
      ]
     },
     "metadata": {},
     "output_type": "display_data"
    },
    {
     "data": {
      "application/javascript": [
       "\n",
       "                    $(\"#pm_labelee21d54f\").text(\"Downloaded 245760 of 282549 bytes\");\n",
       "                    $(\"#pm_progressee21d54f\").attr(\"value\", 86.98);\n",
       "                "
      ],
      "text/plain": [
       "<IPython.core.display.Javascript object>"
      ]
     },
     "metadata": {},
     "output_type": "display_data"
    },
    {
     "data": {
      "application/javascript": [
       "\n",
       "                    $(\"#pm_labelee21d54f\").text(\"Downloaded 253952 of 282549 bytes\");\n",
       "                    $(\"#pm_progressee21d54f\").attr(\"value\", 89.88);\n",
       "                "
      ],
      "text/plain": [
       "<IPython.core.display.Javascript object>"
      ]
     },
     "metadata": {},
     "output_type": "display_data"
    },
    {
     "data": {
      "application/javascript": [
       "\n",
       "                    $(\"#pm_labelee21d54f\").text(\"Downloaded 262144 of 282549 bytes\");\n",
       "                    $(\"#pm_progressee21d54f\").attr(\"value\", 92.78);\n",
       "                "
      ],
      "text/plain": [
       "<IPython.core.display.Javascript object>"
      ]
     },
     "metadata": {},
     "output_type": "display_data"
    },
    {
     "data": {
      "application/javascript": [
       "\n",
       "                    $(\"#pm_labelee21d54f\").text(\"Downloaded 270336 of 282549 bytes\");\n",
       "                    $(\"#pm_progressee21d54f\").attr(\"value\", 95.68);\n",
       "                "
      ],
      "text/plain": [
       "<IPython.core.display.Javascript object>"
      ]
     },
     "metadata": {},
     "output_type": "display_data"
    },
    {
     "data": {
      "application/javascript": [
       "\n",
       "                    $(\"#pm_labelee21d54f\").text(\"Downloaded 278528 of 282549 bytes\");\n",
       "                    $(\"#pm_progressee21d54f\").attr(\"value\", 98.58);\n",
       "                "
      ],
      "text/plain": [
       "<IPython.core.display.Javascript object>"
      ]
     },
     "metadata": {},
     "output_type": "display_data"
    },
    {
     "data": {
      "application/javascript": [
       "\n",
       "                    $(\"#pm_labelee21d54f\").text(\"Downloaded 282549 of 282549 bytes\");\n",
       "                    $(\"#pm_progressee21d54f\").attr(\"value\", 100.0);\n",
       "                "
      ],
      "text/plain": [
       "<IPython.core.display.Javascript object>"
      ]
     },
     "metadata": {},
     "output_type": "display_data"
    },
    {
     "name": "stdout",
     "output_type": "stream",
     "text": [
      "Package com.typesafe:config:1.3.1 downloaded successfully\n",
      "\u001b[31mPlease restart Kernel to complete installation of the new package\u001b[0m\n",
      "Successfully added package com.typesafe:config:1.3.1\n",
      "Downloading package com.typesafe.play:play-json_2.11:2.5.9 to /gpfs/fs01/user/s381-b331ce22a78de0-820fdb2800e9/data/libs/play-json_2.11-2.5.9.jar\n"
     ]
    },
    {
     "data": {
      "text/html": [
       "\n",
       "                <div>\n",
       "                    <span id=\"pm_label87fdc12c\">Starting download...</span>\n",
       "                    <progress id=\"pm_progress87fdc12c\" max=\"100\" value=\"0\" style=\"width:200px\"></progress>\n",
       "                </div>"
      ],
      "text/plain": [
       "<IPython.core.display.HTML object>"
      ]
     },
     "metadata": {},
     "output_type": "display_data"
    },
    {
     "data": {
      "application/javascript": [
       "\n",
       "                    $(\"#pm_label87fdc12c\").text(\"Downloaded 8192 of 648030 bytes\");\n",
       "                    $(\"#pm_progress87fdc12c\").attr(\"value\", 1.26);\n",
       "                "
      ],
      "text/plain": [
       "<IPython.core.display.Javascript object>"
      ]
     },
     "metadata": {},
     "output_type": "display_data"
    },
    {
     "data": {
      "application/javascript": [
       "\n",
       "                    $(\"#pm_label87fdc12c\").text(\"Downloaded 16384 of 648030 bytes\");\n",
       "                    $(\"#pm_progress87fdc12c\").attr(\"value\", 2.53);\n",
       "                "
      ],
      "text/plain": [
       "<IPython.core.display.Javascript object>"
      ]
     },
     "metadata": {},
     "output_type": "display_data"
    },
    {
     "data": {
      "application/javascript": [
       "\n",
       "                    $(\"#pm_label87fdc12c\").text(\"Downloaded 24576 of 648030 bytes\");\n",
       "                    $(\"#pm_progress87fdc12c\").attr(\"value\", 3.79);\n",
       "                "
      ],
      "text/plain": [
       "<IPython.core.display.Javascript object>"
      ]
     },
     "metadata": {},
     "output_type": "display_data"
    },
    {
     "data": {
      "application/javascript": [
       "\n",
       "                    $(\"#pm_label87fdc12c\").text(\"Downloaded 32768 of 648030 bytes\");\n",
       "                    $(\"#pm_progress87fdc12c\").attr(\"value\", 5.06);\n",
       "                "
      ],
      "text/plain": [
       "<IPython.core.display.Javascript object>"
      ]
     },
     "metadata": {},
     "output_type": "display_data"
    },
    {
     "data": {
      "application/javascript": [
       "\n",
       "                    $(\"#pm_label87fdc12c\").text(\"Downloaded 40960 of 648030 bytes\");\n",
       "                    $(\"#pm_progress87fdc12c\").attr(\"value\", 6.32);\n",
       "                "
      ],
      "text/plain": [
       "<IPython.core.display.Javascript object>"
      ]
     },
     "metadata": {},
     "output_type": "display_data"
    },
    {
     "data": {
      "application/javascript": [
       "\n",
       "                    $(\"#pm_label87fdc12c\").text(\"Downloaded 49152 of 648030 bytes\");\n",
       "                    $(\"#pm_progress87fdc12c\").attr(\"value\", 7.58);\n",
       "                "
      ],
      "text/plain": [
       "<IPython.core.display.Javascript object>"
      ]
     },
     "metadata": {},
     "output_type": "display_data"
    },
    {
     "data": {
      "application/javascript": [
       "\n",
       "                    $(\"#pm_label87fdc12c\").text(\"Downloaded 57344 of 648030 bytes\");\n",
       "                    $(\"#pm_progress87fdc12c\").attr(\"value\", 8.85);\n",
       "                "
      ],
      "text/plain": [
       "<IPython.core.display.Javascript object>"
      ]
     },
     "metadata": {},
     "output_type": "display_data"
    },
    {
     "data": {
      "application/javascript": [
       "\n",
       "                    $(\"#pm_label87fdc12c\").text(\"Downloaded 65536 of 648030 bytes\");\n",
       "                    $(\"#pm_progress87fdc12c\").attr(\"value\", 10.11);\n",
       "                "
      ],
      "text/plain": [
       "<IPython.core.display.Javascript object>"
      ]
     },
     "metadata": {},
     "output_type": "display_data"
    },
    {
     "data": {
      "application/javascript": [
       "\n",
       "                    $(\"#pm_label87fdc12c\").text(\"Downloaded 73728 of 648030 bytes\");\n",
       "                    $(\"#pm_progress87fdc12c\").attr(\"value\", 11.38);\n",
       "                "
      ],
      "text/plain": [
       "<IPython.core.display.Javascript object>"
      ]
     },
     "metadata": {},
     "output_type": "display_data"
    },
    {
     "data": {
      "application/javascript": [
       "\n",
       "                    $(\"#pm_label87fdc12c\").text(\"Downloaded 81920 of 648030 bytes\");\n",
       "                    $(\"#pm_progress87fdc12c\").attr(\"value\", 12.64);\n",
       "                "
      ],
      "text/plain": [
       "<IPython.core.display.Javascript object>"
      ]
     },
     "metadata": {},
     "output_type": "display_data"
    },
    {
     "data": {
      "application/javascript": [
       "\n",
       "                    $(\"#pm_label87fdc12c\").text(\"Downloaded 90112 of 648030 bytes\");\n",
       "                    $(\"#pm_progress87fdc12c\").attr(\"value\", 13.91);\n",
       "                "
      ],
      "text/plain": [
       "<IPython.core.display.Javascript object>"
      ]
     },
     "metadata": {},
     "output_type": "display_data"
    },
    {
     "data": {
      "application/javascript": [
       "\n",
       "                    $(\"#pm_label87fdc12c\").text(\"Downloaded 98304 of 648030 bytes\");\n",
       "                    $(\"#pm_progress87fdc12c\").attr(\"value\", 15.17);\n",
       "                "
      ],
      "text/plain": [
       "<IPython.core.display.Javascript object>"
      ]
     },
     "metadata": {},
     "output_type": "display_data"
    },
    {
     "data": {
      "application/javascript": [
       "\n",
       "                    $(\"#pm_label87fdc12c\").text(\"Downloaded 106496 of 648030 bytes\");\n",
       "                    $(\"#pm_progress87fdc12c\").attr(\"value\", 16.43);\n",
       "                "
      ],
      "text/plain": [
       "<IPython.core.display.Javascript object>"
      ]
     },
     "metadata": {},
     "output_type": "display_data"
    },
    {
     "data": {
      "application/javascript": [
       "\n",
       "                    $(\"#pm_label87fdc12c\").text(\"Downloaded 114688 of 648030 bytes\");\n",
       "                    $(\"#pm_progress87fdc12c\").attr(\"value\", 17.7);\n",
       "                "
      ],
      "text/plain": [
       "<IPython.core.display.Javascript object>"
      ]
     },
     "metadata": {},
     "output_type": "display_data"
    },
    {
     "data": {
      "application/javascript": [
       "\n",
       "                    $(\"#pm_label87fdc12c\").text(\"Downloaded 122880 of 648030 bytes\");\n",
       "                    $(\"#pm_progress87fdc12c\").attr(\"value\", 18.96);\n",
       "                "
      ],
      "text/plain": [
       "<IPython.core.display.Javascript object>"
      ]
     },
     "metadata": {},
     "output_type": "display_data"
    },
    {
     "data": {
      "application/javascript": [
       "\n",
       "                    $(\"#pm_label87fdc12c\").text(\"Downloaded 131072 of 648030 bytes\");\n",
       "                    $(\"#pm_progress87fdc12c\").attr(\"value\", 20.23);\n",
       "                "
      ],
      "text/plain": [
       "<IPython.core.display.Javascript object>"
      ]
     },
     "metadata": {},
     "output_type": "display_data"
    },
    {
     "data": {
      "application/javascript": [
       "\n",
       "                    $(\"#pm_label87fdc12c\").text(\"Downloaded 139264 of 648030 bytes\");\n",
       "                    $(\"#pm_progress87fdc12c\").attr(\"value\", 21.49);\n",
       "                "
      ],
      "text/plain": [
       "<IPython.core.display.Javascript object>"
      ]
     },
     "metadata": {},
     "output_type": "display_data"
    },
    {
     "data": {
      "application/javascript": [
       "\n",
       "                    $(\"#pm_label87fdc12c\").text(\"Downloaded 147456 of 648030 bytes\");\n",
       "                    $(\"#pm_progress87fdc12c\").attr(\"value\", 22.75);\n",
       "                "
      ],
      "text/plain": [
       "<IPython.core.display.Javascript object>"
      ]
     },
     "metadata": {},
     "output_type": "display_data"
    },
    {
     "data": {
      "application/javascript": [
       "\n",
       "                    $(\"#pm_label87fdc12c\").text(\"Downloaded 155648 of 648030 bytes\");\n",
       "                    $(\"#pm_progress87fdc12c\").attr(\"value\", 24.02);\n",
       "                "
      ],
      "text/plain": [
       "<IPython.core.display.Javascript object>"
      ]
     },
     "metadata": {},
     "output_type": "display_data"
    },
    {
     "data": {
      "application/javascript": [
       "\n",
       "                    $(\"#pm_label87fdc12c\").text(\"Downloaded 163840 of 648030 bytes\");\n",
       "                    $(\"#pm_progress87fdc12c\").attr(\"value\", 25.28);\n",
       "                "
      ],
      "text/plain": [
       "<IPython.core.display.Javascript object>"
      ]
     },
     "metadata": {},
     "output_type": "display_data"
    },
    {
     "data": {
      "application/javascript": [
       "\n",
       "                    $(\"#pm_label87fdc12c\").text(\"Downloaded 172032 of 648030 bytes\");\n",
       "                    $(\"#pm_progress87fdc12c\").attr(\"value\", 26.55);\n",
       "                "
      ],
      "text/plain": [
       "<IPython.core.display.Javascript object>"
      ]
     },
     "metadata": {},
     "output_type": "display_data"
    },
    {
     "data": {
      "application/javascript": [
       "\n",
       "                    $(\"#pm_label87fdc12c\").text(\"Downloaded 180224 of 648030 bytes\");\n",
       "                    $(\"#pm_progress87fdc12c\").attr(\"value\", 27.81);\n",
       "                "
      ],
      "text/plain": [
       "<IPython.core.display.Javascript object>"
      ]
     },
     "metadata": {},
     "output_type": "display_data"
    },
    {
     "data": {
      "application/javascript": [
       "\n",
       "                    $(\"#pm_label87fdc12c\").text(\"Downloaded 188416 of 648030 bytes\");\n",
       "                    $(\"#pm_progress87fdc12c\").attr(\"value\", 29.08);\n",
       "                "
      ],
      "text/plain": [
       "<IPython.core.display.Javascript object>"
      ]
     },
     "metadata": {},
     "output_type": "display_data"
    },
    {
     "data": {
      "application/javascript": [
       "\n",
       "                    $(\"#pm_label87fdc12c\").text(\"Downloaded 196608 of 648030 bytes\");\n",
       "                    $(\"#pm_progress87fdc12c\").attr(\"value\", 30.34);\n",
       "                "
      ],
      "text/plain": [
       "<IPython.core.display.Javascript object>"
      ]
     },
     "metadata": {},
     "output_type": "display_data"
    },
    {
     "data": {
      "application/javascript": [
       "\n",
       "                    $(\"#pm_label87fdc12c\").text(\"Downloaded 204800 of 648030 bytes\");\n",
       "                    $(\"#pm_progress87fdc12c\").attr(\"value\", 31.6);\n",
       "                "
      ],
      "text/plain": [
       "<IPython.core.display.Javascript object>"
      ]
     },
     "metadata": {},
     "output_type": "display_data"
    },
    {
     "data": {
      "application/javascript": [
       "\n",
       "                    $(\"#pm_label87fdc12c\").text(\"Downloaded 212992 of 648030 bytes\");\n",
       "                    $(\"#pm_progress87fdc12c\").attr(\"value\", 32.87);\n",
       "                "
      ],
      "text/plain": [
       "<IPython.core.display.Javascript object>"
      ]
     },
     "metadata": {},
     "output_type": "display_data"
    },
    {
     "data": {
      "application/javascript": [
       "\n",
       "                    $(\"#pm_label87fdc12c\").text(\"Downloaded 221184 of 648030 bytes\");\n",
       "                    $(\"#pm_progress87fdc12c\").attr(\"value\", 34.13);\n",
       "                "
      ],
      "text/plain": [
       "<IPython.core.display.Javascript object>"
      ]
     },
     "metadata": {},
     "output_type": "display_data"
    },
    {
     "data": {
      "application/javascript": [
       "\n",
       "                    $(\"#pm_label87fdc12c\").text(\"Downloaded 229376 of 648030 bytes\");\n",
       "                    $(\"#pm_progress87fdc12c\").attr(\"value\", 35.4);\n",
       "                "
      ],
      "text/plain": [
       "<IPython.core.display.Javascript object>"
      ]
     },
     "metadata": {},
     "output_type": "display_data"
    },
    {
     "data": {
      "application/javascript": [
       "\n",
       "                    $(\"#pm_label87fdc12c\").text(\"Downloaded 237568 of 648030 bytes\");\n",
       "                    $(\"#pm_progress87fdc12c\").attr(\"value\", 36.66);\n",
       "                "
      ],
      "text/plain": [
       "<IPython.core.display.Javascript object>"
      ]
     },
     "metadata": {},
     "output_type": "display_data"
    },
    {
     "data": {
      "application/javascript": [
       "\n",
       "                    $(\"#pm_label87fdc12c\").text(\"Downloaded 245760 of 648030 bytes\");\n",
       "                    $(\"#pm_progress87fdc12c\").attr(\"value\", 37.92);\n",
       "                "
      ],
      "text/plain": [
       "<IPython.core.display.Javascript object>"
      ]
     },
     "metadata": {},
     "output_type": "display_data"
    },
    {
     "data": {
      "application/javascript": [
       "\n",
       "                    $(\"#pm_label87fdc12c\").text(\"Downloaded 253952 of 648030 bytes\");\n",
       "                    $(\"#pm_progress87fdc12c\").attr(\"value\", 39.19);\n",
       "                "
      ],
      "text/plain": [
       "<IPython.core.display.Javascript object>"
      ]
     },
     "metadata": {},
     "output_type": "display_data"
    },
    {
     "data": {
      "application/javascript": [
       "\n",
       "                    $(\"#pm_label87fdc12c\").text(\"Downloaded 262144 of 648030 bytes\");\n",
       "                    $(\"#pm_progress87fdc12c\").attr(\"value\", 40.45);\n",
       "                "
      ],
      "text/plain": [
       "<IPython.core.display.Javascript object>"
      ]
     },
     "metadata": {},
     "output_type": "display_data"
    },
    {
     "data": {
      "application/javascript": [
       "\n",
       "                    $(\"#pm_label87fdc12c\").text(\"Downloaded 270336 of 648030 bytes\");\n",
       "                    $(\"#pm_progress87fdc12c\").attr(\"value\", 41.72);\n",
       "                "
      ],
      "text/plain": [
       "<IPython.core.display.Javascript object>"
      ]
     },
     "metadata": {},
     "output_type": "display_data"
    },
    {
     "data": {
      "application/javascript": [
       "\n",
       "                    $(\"#pm_label87fdc12c\").text(\"Downloaded 278528 of 648030 bytes\");\n",
       "                    $(\"#pm_progress87fdc12c\").attr(\"value\", 42.98);\n",
       "                "
      ],
      "text/plain": [
       "<IPython.core.display.Javascript object>"
      ]
     },
     "metadata": {},
     "output_type": "display_data"
    },
    {
     "data": {
      "application/javascript": [
       "\n",
       "                    $(\"#pm_label87fdc12c\").text(\"Downloaded 286720 of 648030 bytes\");\n",
       "                    $(\"#pm_progress87fdc12c\").attr(\"value\", 44.24);\n",
       "                "
      ],
      "text/plain": [
       "<IPython.core.display.Javascript object>"
      ]
     },
     "metadata": {},
     "output_type": "display_data"
    },
    {
     "data": {
      "application/javascript": [
       "\n",
       "                    $(\"#pm_label87fdc12c\").text(\"Downloaded 294912 of 648030 bytes\");\n",
       "                    $(\"#pm_progress87fdc12c\").attr(\"value\", 45.51);\n",
       "                "
      ],
      "text/plain": [
       "<IPython.core.display.Javascript object>"
      ]
     },
     "metadata": {},
     "output_type": "display_data"
    },
    {
     "data": {
      "application/javascript": [
       "\n",
       "                    $(\"#pm_label87fdc12c\").text(\"Downloaded 303104 of 648030 bytes\");\n",
       "                    $(\"#pm_progress87fdc12c\").attr(\"value\", 46.77);\n",
       "                "
      ],
      "text/plain": [
       "<IPython.core.display.Javascript object>"
      ]
     },
     "metadata": {},
     "output_type": "display_data"
    },
    {
     "data": {
      "application/javascript": [
       "\n",
       "                    $(\"#pm_label87fdc12c\").text(\"Downloaded 311296 of 648030 bytes\");\n",
       "                    $(\"#pm_progress87fdc12c\").attr(\"value\", 48.04);\n",
       "                "
      ],
      "text/plain": [
       "<IPython.core.display.Javascript object>"
      ]
     },
     "metadata": {},
     "output_type": "display_data"
    },
    {
     "data": {
      "application/javascript": [
       "\n",
       "                    $(\"#pm_label87fdc12c\").text(\"Downloaded 319488 of 648030 bytes\");\n",
       "                    $(\"#pm_progress87fdc12c\").attr(\"value\", 49.3);\n",
       "                "
      ],
      "text/plain": [
       "<IPython.core.display.Javascript object>"
      ]
     },
     "metadata": {},
     "output_type": "display_data"
    },
    {
     "data": {
      "application/javascript": [
       "\n",
       "                    $(\"#pm_label87fdc12c\").text(\"Downloaded 327680 of 648030 bytes\");\n",
       "                    $(\"#pm_progress87fdc12c\").attr(\"value\", 50.57);\n",
       "                "
      ],
      "text/plain": [
       "<IPython.core.display.Javascript object>"
      ]
     },
     "metadata": {},
     "output_type": "display_data"
    },
    {
     "data": {
      "application/javascript": [
       "\n",
       "                    $(\"#pm_label87fdc12c\").text(\"Downloaded 335872 of 648030 bytes\");\n",
       "                    $(\"#pm_progress87fdc12c\").attr(\"value\", 51.83);\n",
       "                "
      ],
      "text/plain": [
       "<IPython.core.display.Javascript object>"
      ]
     },
     "metadata": {},
     "output_type": "display_data"
    },
    {
     "data": {
      "application/javascript": [
       "\n",
       "                    $(\"#pm_label87fdc12c\").text(\"Downloaded 344064 of 648030 bytes\");\n",
       "                    $(\"#pm_progress87fdc12c\").attr(\"value\", 53.09);\n",
       "                "
      ],
      "text/plain": [
       "<IPython.core.display.Javascript object>"
      ]
     },
     "metadata": {},
     "output_type": "display_data"
    },
    {
     "data": {
      "application/javascript": [
       "\n",
       "                    $(\"#pm_label87fdc12c\").text(\"Downloaded 352256 of 648030 bytes\");\n",
       "                    $(\"#pm_progress87fdc12c\").attr(\"value\", 54.36);\n",
       "                "
      ],
      "text/plain": [
       "<IPython.core.display.Javascript object>"
      ]
     },
     "metadata": {},
     "output_type": "display_data"
    },
    {
     "data": {
      "application/javascript": [
       "\n",
       "                    $(\"#pm_label87fdc12c\").text(\"Downloaded 360448 of 648030 bytes\");\n",
       "                    $(\"#pm_progress87fdc12c\").attr(\"value\", 55.62);\n",
       "                "
      ],
      "text/plain": [
       "<IPython.core.display.Javascript object>"
      ]
     },
     "metadata": {},
     "output_type": "display_data"
    },
    {
     "data": {
      "application/javascript": [
       "\n",
       "                    $(\"#pm_label87fdc12c\").text(\"Downloaded 368640 of 648030 bytes\");\n",
       "                    $(\"#pm_progress87fdc12c\").attr(\"value\", 56.89);\n",
       "                "
      ],
      "text/plain": [
       "<IPython.core.display.Javascript object>"
      ]
     },
     "metadata": {},
     "output_type": "display_data"
    },
    {
     "data": {
      "application/javascript": [
       "\n",
       "                    $(\"#pm_label87fdc12c\").text(\"Downloaded 376832 of 648030 bytes\");\n",
       "                    $(\"#pm_progress87fdc12c\").attr(\"value\", 58.15);\n",
       "                "
      ],
      "text/plain": [
       "<IPython.core.display.Javascript object>"
      ]
     },
     "metadata": {},
     "output_type": "display_data"
    },
    {
     "data": {
      "application/javascript": [
       "\n",
       "                    $(\"#pm_label87fdc12c\").text(\"Downloaded 385024 of 648030 bytes\");\n",
       "                    $(\"#pm_progress87fdc12c\").attr(\"value\", 59.41);\n",
       "                "
      ],
      "text/plain": [
       "<IPython.core.display.Javascript object>"
      ]
     },
     "metadata": {},
     "output_type": "display_data"
    },
    {
     "data": {
      "application/javascript": [
       "\n",
       "                    $(\"#pm_label87fdc12c\").text(\"Downloaded 393216 of 648030 bytes\");\n",
       "                    $(\"#pm_progress87fdc12c\").attr(\"value\", 60.68);\n",
       "                "
      ],
      "text/plain": [
       "<IPython.core.display.Javascript object>"
      ]
     },
     "metadata": {},
     "output_type": "display_data"
    },
    {
     "data": {
      "application/javascript": [
       "\n",
       "                    $(\"#pm_label87fdc12c\").text(\"Downloaded 401408 of 648030 bytes\");\n",
       "                    $(\"#pm_progress87fdc12c\").attr(\"value\", 61.94);\n",
       "                "
      ],
      "text/plain": [
       "<IPython.core.display.Javascript object>"
      ]
     },
     "metadata": {},
     "output_type": "display_data"
    },
    {
     "data": {
      "application/javascript": [
       "\n",
       "                    $(\"#pm_label87fdc12c\").text(\"Downloaded 409600 of 648030 bytes\");\n",
       "                    $(\"#pm_progress87fdc12c\").attr(\"value\", 63.21);\n",
       "                "
      ],
      "text/plain": [
       "<IPython.core.display.Javascript object>"
      ]
     },
     "metadata": {},
     "output_type": "display_data"
    },
    {
     "data": {
      "application/javascript": [
       "\n",
       "                    $(\"#pm_label87fdc12c\").text(\"Downloaded 417792 of 648030 bytes\");\n",
       "                    $(\"#pm_progress87fdc12c\").attr(\"value\", 64.47);\n",
       "                "
      ],
      "text/plain": [
       "<IPython.core.display.Javascript object>"
      ]
     },
     "metadata": {},
     "output_type": "display_data"
    },
    {
     "data": {
      "application/javascript": [
       "\n",
       "                    $(\"#pm_label87fdc12c\").text(\"Downloaded 425984 of 648030 bytes\");\n",
       "                    $(\"#pm_progress87fdc12c\").attr(\"value\", 65.74);\n",
       "                "
      ],
      "text/plain": [
       "<IPython.core.display.Javascript object>"
      ]
     },
     "metadata": {},
     "output_type": "display_data"
    },
    {
     "data": {
      "application/javascript": [
       "\n",
       "                    $(\"#pm_label87fdc12c\").text(\"Downloaded 434176 of 648030 bytes\");\n",
       "                    $(\"#pm_progress87fdc12c\").attr(\"value\", 67.0);\n",
       "                "
      ],
      "text/plain": [
       "<IPython.core.display.Javascript object>"
      ]
     },
     "metadata": {},
     "output_type": "display_data"
    },
    {
     "data": {
      "application/javascript": [
       "\n",
       "                    $(\"#pm_label87fdc12c\").text(\"Downloaded 442368 of 648030 bytes\");\n",
       "                    $(\"#pm_progress87fdc12c\").attr(\"value\", 68.26);\n",
       "                "
      ],
      "text/plain": [
       "<IPython.core.display.Javascript object>"
      ]
     },
     "metadata": {},
     "output_type": "display_data"
    },
    {
     "data": {
      "application/javascript": [
       "\n",
       "                    $(\"#pm_label87fdc12c\").text(\"Downloaded 450560 of 648030 bytes\");\n",
       "                    $(\"#pm_progress87fdc12c\").attr(\"value\", 69.53);\n",
       "                "
      ],
      "text/plain": [
       "<IPython.core.display.Javascript object>"
      ]
     },
     "metadata": {},
     "output_type": "display_data"
    },
    {
     "data": {
      "application/javascript": [
       "\n",
       "                    $(\"#pm_label87fdc12c\").text(\"Downloaded 458752 of 648030 bytes\");\n",
       "                    $(\"#pm_progress87fdc12c\").attr(\"value\", 70.79);\n",
       "                "
      ],
      "text/plain": [
       "<IPython.core.display.Javascript object>"
      ]
     },
     "metadata": {},
     "output_type": "display_data"
    },
    {
     "data": {
      "application/javascript": [
       "\n",
       "                    $(\"#pm_label87fdc12c\").text(\"Downloaded 466944 of 648030 bytes\");\n",
       "                    $(\"#pm_progress87fdc12c\").attr(\"value\", 72.06);\n",
       "                "
      ],
      "text/plain": [
       "<IPython.core.display.Javascript object>"
      ]
     },
     "metadata": {},
     "output_type": "display_data"
    },
    {
     "data": {
      "application/javascript": [
       "\n",
       "                    $(\"#pm_label87fdc12c\").text(\"Downloaded 475136 of 648030 bytes\");\n",
       "                    $(\"#pm_progress87fdc12c\").attr(\"value\", 73.32);\n",
       "                "
      ],
      "text/plain": [
       "<IPython.core.display.Javascript object>"
      ]
     },
     "metadata": {},
     "output_type": "display_data"
    },
    {
     "data": {
      "application/javascript": [
       "\n",
       "                    $(\"#pm_label87fdc12c\").text(\"Downloaded 483328 of 648030 bytes\");\n",
       "                    $(\"#pm_progress87fdc12c\").attr(\"value\", 74.58);\n",
       "                "
      ],
      "text/plain": [
       "<IPython.core.display.Javascript object>"
      ]
     },
     "metadata": {},
     "output_type": "display_data"
    },
    {
     "data": {
      "application/javascript": [
       "\n",
       "                    $(\"#pm_label87fdc12c\").text(\"Downloaded 491520 of 648030 bytes\");\n",
       "                    $(\"#pm_progress87fdc12c\").attr(\"value\", 75.85);\n",
       "                "
      ],
      "text/plain": [
       "<IPython.core.display.Javascript object>"
      ]
     },
     "metadata": {},
     "output_type": "display_data"
    },
    {
     "data": {
      "application/javascript": [
       "\n",
       "                    $(\"#pm_label87fdc12c\").text(\"Downloaded 499712 of 648030 bytes\");\n",
       "                    $(\"#pm_progress87fdc12c\").attr(\"value\", 77.11);\n",
       "                "
      ],
      "text/plain": [
       "<IPython.core.display.Javascript object>"
      ]
     },
     "metadata": {},
     "output_type": "display_data"
    },
    {
     "data": {
      "application/javascript": [
       "\n",
       "                    $(\"#pm_label87fdc12c\").text(\"Downloaded 507904 of 648030 bytes\");\n",
       "                    $(\"#pm_progress87fdc12c\").attr(\"value\", 78.38);\n",
       "                "
      ],
      "text/plain": [
       "<IPython.core.display.Javascript object>"
      ]
     },
     "metadata": {},
     "output_type": "display_data"
    },
    {
     "data": {
      "application/javascript": [
       "\n",
       "                    $(\"#pm_label87fdc12c\").text(\"Downloaded 516096 of 648030 bytes\");\n",
       "                    $(\"#pm_progress87fdc12c\").attr(\"value\", 79.64);\n",
       "                "
      ],
      "text/plain": [
       "<IPython.core.display.Javascript object>"
      ]
     },
     "metadata": {},
     "output_type": "display_data"
    },
    {
     "data": {
      "application/javascript": [
       "\n",
       "                    $(\"#pm_label87fdc12c\").text(\"Downloaded 524288 of 648030 bytes\");\n",
       "                    $(\"#pm_progress87fdc12c\").attr(\"value\", 80.9);\n",
       "                "
      ],
      "text/plain": [
       "<IPython.core.display.Javascript object>"
      ]
     },
     "metadata": {},
     "output_type": "display_data"
    },
    {
     "data": {
      "application/javascript": [
       "\n",
       "                    $(\"#pm_label87fdc12c\").text(\"Downloaded 532480 of 648030 bytes\");\n",
       "                    $(\"#pm_progress87fdc12c\").attr(\"value\", 82.17);\n",
       "                "
      ],
      "text/plain": [
       "<IPython.core.display.Javascript object>"
      ]
     },
     "metadata": {},
     "output_type": "display_data"
    },
    {
     "data": {
      "application/javascript": [
       "\n",
       "                    $(\"#pm_label87fdc12c\").text(\"Downloaded 540672 of 648030 bytes\");\n",
       "                    $(\"#pm_progress87fdc12c\").attr(\"value\", 83.43);\n",
       "                "
      ],
      "text/plain": [
       "<IPython.core.display.Javascript object>"
      ]
     },
     "metadata": {},
     "output_type": "display_data"
    },
    {
     "data": {
      "application/javascript": [
       "\n",
       "                    $(\"#pm_label87fdc12c\").text(\"Downloaded 548864 of 648030 bytes\");\n",
       "                    $(\"#pm_progress87fdc12c\").attr(\"value\", 84.7);\n",
       "                "
      ],
      "text/plain": [
       "<IPython.core.display.Javascript object>"
      ]
     },
     "metadata": {},
     "output_type": "display_data"
    },
    {
     "data": {
      "application/javascript": [
       "\n",
       "                    $(\"#pm_label87fdc12c\").text(\"Downloaded 557056 of 648030 bytes\");\n",
       "                    $(\"#pm_progress87fdc12c\").attr(\"value\", 85.96);\n",
       "                "
      ],
      "text/plain": [
       "<IPython.core.display.Javascript object>"
      ]
     },
     "metadata": {},
     "output_type": "display_data"
    },
    {
     "data": {
      "application/javascript": [
       "\n",
       "                    $(\"#pm_label87fdc12c\").text(\"Downloaded 565248 of 648030 bytes\");\n",
       "                    $(\"#pm_progress87fdc12c\").attr(\"value\", 87.23);\n",
       "                "
      ],
      "text/plain": [
       "<IPython.core.display.Javascript object>"
      ]
     },
     "metadata": {},
     "output_type": "display_data"
    },
    {
     "data": {
      "application/javascript": [
       "\n",
       "                    $(\"#pm_label87fdc12c\").text(\"Downloaded 573440 of 648030 bytes\");\n",
       "                    $(\"#pm_progress87fdc12c\").attr(\"value\", 88.49);\n",
       "                "
      ],
      "text/plain": [
       "<IPython.core.display.Javascript object>"
      ]
     },
     "metadata": {},
     "output_type": "display_data"
    },
    {
     "data": {
      "application/javascript": [
       "\n",
       "                    $(\"#pm_label87fdc12c\").text(\"Downloaded 581632 of 648030 bytes\");\n",
       "                    $(\"#pm_progress87fdc12c\").attr(\"value\", 89.75);\n",
       "                "
      ],
      "text/plain": [
       "<IPython.core.display.Javascript object>"
      ]
     },
     "metadata": {},
     "output_type": "display_data"
    },
    {
     "data": {
      "application/javascript": [
       "\n",
       "                    $(\"#pm_label87fdc12c\").text(\"Downloaded 589824 of 648030 bytes\");\n",
       "                    $(\"#pm_progress87fdc12c\").attr(\"value\", 91.02);\n",
       "                "
      ],
      "text/plain": [
       "<IPython.core.display.Javascript object>"
      ]
     },
     "metadata": {},
     "output_type": "display_data"
    },
    {
     "data": {
      "application/javascript": [
       "\n",
       "                    $(\"#pm_label87fdc12c\").text(\"Downloaded 598016 of 648030 bytes\");\n",
       "                    $(\"#pm_progress87fdc12c\").attr(\"value\", 92.28);\n",
       "                "
      ],
      "text/plain": [
       "<IPython.core.display.Javascript object>"
      ]
     },
     "metadata": {},
     "output_type": "display_data"
    },
    {
     "data": {
      "application/javascript": [
       "\n",
       "                    $(\"#pm_label87fdc12c\").text(\"Downloaded 606208 of 648030 bytes\");\n",
       "                    $(\"#pm_progress87fdc12c\").attr(\"value\", 93.55);\n",
       "                "
      ],
      "text/plain": [
       "<IPython.core.display.Javascript object>"
      ]
     },
     "metadata": {},
     "output_type": "display_data"
    },
    {
     "data": {
      "application/javascript": [
       "\n",
       "                    $(\"#pm_label87fdc12c\").text(\"Downloaded 614400 of 648030 bytes\");\n",
       "                    $(\"#pm_progress87fdc12c\").attr(\"value\", 94.81);\n",
       "                "
      ],
      "text/plain": [
       "<IPython.core.display.Javascript object>"
      ]
     },
     "metadata": {},
     "output_type": "display_data"
    },
    {
     "data": {
      "application/javascript": [
       "\n",
       "                    $(\"#pm_label87fdc12c\").text(\"Downloaded 622592 of 648030 bytes\");\n",
       "                    $(\"#pm_progress87fdc12c\").attr(\"value\", 96.07);\n",
       "                "
      ],
      "text/plain": [
       "<IPython.core.display.Javascript object>"
      ]
     },
     "metadata": {},
     "output_type": "display_data"
    },
    {
     "data": {
      "application/javascript": [
       "\n",
       "                    $(\"#pm_label87fdc12c\").text(\"Downloaded 630784 of 648030 bytes\");\n",
       "                    $(\"#pm_progress87fdc12c\").attr(\"value\", 97.34);\n",
       "                "
      ],
      "text/plain": [
       "<IPython.core.display.Javascript object>"
      ]
     },
     "metadata": {},
     "output_type": "display_data"
    },
    {
     "data": {
      "application/javascript": [
       "\n",
       "                    $(\"#pm_label87fdc12c\").text(\"Downloaded 638976 of 648030 bytes\");\n",
       "                    $(\"#pm_progress87fdc12c\").attr(\"value\", 98.6);\n",
       "                "
      ],
      "text/plain": [
       "<IPython.core.display.Javascript object>"
      ]
     },
     "metadata": {},
     "output_type": "display_data"
    },
    {
     "data": {
      "application/javascript": [
       "\n",
       "                    $(\"#pm_label87fdc12c\").text(\"Downloaded 647168 of 648030 bytes\");\n",
       "                    $(\"#pm_progress87fdc12c\").attr(\"value\", 99.87);\n",
       "                "
      ],
      "text/plain": [
       "<IPython.core.display.Javascript object>"
      ]
     },
     "metadata": {},
     "output_type": "display_data"
    },
    {
     "data": {
      "application/javascript": [
       "\n",
       "                    $(\"#pm_label87fdc12c\").text(\"Downloaded 648030 of 648030 bytes\");\n",
       "                    $(\"#pm_progress87fdc12c\").attr(\"value\", 100.0);\n",
       "                "
      ],
      "text/plain": [
       "<IPython.core.display.Javascript object>"
      ]
     },
     "metadata": {},
     "output_type": "display_data"
    },
    {
     "name": "stdout",
     "output_type": "stream",
     "text": [
      "Package com.typesafe.play:play-json_2.11:2.5.9 downloaded successfully\n",
      "\u001b[31mPlease restart Kernel to complete installation of the new package\u001b[0m\n",
      "Successfully added package com.typesafe.play:play-json_2.11:2.5.9\n",
      "Downloading package org.scalaj:scalaj-http_2.11:2.3.0 to /gpfs/fs01/user/s381-b331ce22a78de0-820fdb2800e9/data/libs/scalaj-http_2.11-2.3.0.jar\n"
     ]
    },
    {
     "data": {
      "text/html": [
       "\n",
       "                <div>\n",
       "                    <span id=\"pm_labelbcba0c90\">Starting download...</span>\n",
       "                    <progress id=\"pm_progressbcba0c90\" max=\"100\" value=\"0\" style=\"width:200px\"></progress>\n",
       "                </div>"
      ],
      "text/plain": [
       "<IPython.core.display.HTML object>"
      ]
     },
     "metadata": {},
     "output_type": "display_data"
    },
    {
     "data": {
      "application/javascript": [
       "\n",
       "                    $(\"#pm_labelbcba0c90\").text(\"Downloaded 8192 of 156197 bytes\");\n",
       "                    $(\"#pm_progressbcba0c90\").attr(\"value\", 5.24);\n",
       "                "
      ],
      "text/plain": [
       "<IPython.core.display.Javascript object>"
      ]
     },
     "metadata": {},
     "output_type": "display_data"
    },
    {
     "data": {
      "application/javascript": [
       "\n",
       "                    $(\"#pm_labelbcba0c90\").text(\"Downloaded 16384 of 156197 bytes\");\n",
       "                    $(\"#pm_progressbcba0c90\").attr(\"value\", 10.49);\n",
       "                "
      ],
      "text/plain": [
       "<IPython.core.display.Javascript object>"
      ]
     },
     "metadata": {},
     "output_type": "display_data"
    },
    {
     "data": {
      "application/javascript": [
       "\n",
       "                    $(\"#pm_labelbcba0c90\").text(\"Downloaded 24576 of 156197 bytes\");\n",
       "                    $(\"#pm_progressbcba0c90\").attr(\"value\", 15.73);\n",
       "                "
      ],
      "text/plain": [
       "<IPython.core.display.Javascript object>"
      ]
     },
     "metadata": {},
     "output_type": "display_data"
    },
    {
     "data": {
      "application/javascript": [
       "\n",
       "                    $(\"#pm_labelbcba0c90\").text(\"Downloaded 32768 of 156197 bytes\");\n",
       "                    $(\"#pm_progressbcba0c90\").attr(\"value\", 20.98);\n",
       "                "
      ],
      "text/plain": [
       "<IPython.core.display.Javascript object>"
      ]
     },
     "metadata": {},
     "output_type": "display_data"
    },
    {
     "data": {
      "application/javascript": [
       "\n",
       "                    $(\"#pm_labelbcba0c90\").text(\"Downloaded 40960 of 156197 bytes\");\n",
       "                    $(\"#pm_progressbcba0c90\").attr(\"value\", 26.22);\n",
       "                "
      ],
      "text/plain": [
       "<IPython.core.display.Javascript object>"
      ]
     },
     "metadata": {},
     "output_type": "display_data"
    },
    {
     "data": {
      "application/javascript": [
       "\n",
       "                    $(\"#pm_labelbcba0c90\").text(\"Downloaded 49152 of 156197 bytes\");\n",
       "                    $(\"#pm_progressbcba0c90\").attr(\"value\", 31.47);\n",
       "                "
      ],
      "text/plain": [
       "<IPython.core.display.Javascript object>"
      ]
     },
     "metadata": {},
     "output_type": "display_data"
    },
    {
     "data": {
      "application/javascript": [
       "\n",
       "                    $(\"#pm_labelbcba0c90\").text(\"Downloaded 57344 of 156197 bytes\");\n",
       "                    $(\"#pm_progressbcba0c90\").attr(\"value\", 36.71);\n",
       "                "
      ],
      "text/plain": [
       "<IPython.core.display.Javascript object>"
      ]
     },
     "metadata": {},
     "output_type": "display_data"
    },
    {
     "data": {
      "application/javascript": [
       "\n",
       "                    $(\"#pm_labelbcba0c90\").text(\"Downloaded 65536 of 156197 bytes\");\n",
       "                    $(\"#pm_progressbcba0c90\").attr(\"value\", 41.96);\n",
       "                "
      ],
      "text/plain": [
       "<IPython.core.display.Javascript object>"
      ]
     },
     "metadata": {},
     "output_type": "display_data"
    },
    {
     "data": {
      "application/javascript": [
       "\n",
       "                    $(\"#pm_labelbcba0c90\").text(\"Downloaded 73728 of 156197 bytes\");\n",
       "                    $(\"#pm_progressbcba0c90\").attr(\"value\", 47.2);\n",
       "                "
      ],
      "text/plain": [
       "<IPython.core.display.Javascript object>"
      ]
     },
     "metadata": {},
     "output_type": "display_data"
    },
    {
     "data": {
      "application/javascript": [
       "\n",
       "                    $(\"#pm_labelbcba0c90\").text(\"Downloaded 81920 of 156197 bytes\");\n",
       "                    $(\"#pm_progressbcba0c90\").attr(\"value\", 52.45);\n",
       "                "
      ],
      "text/plain": [
       "<IPython.core.display.Javascript object>"
      ]
     },
     "metadata": {},
     "output_type": "display_data"
    },
    {
     "data": {
      "application/javascript": [
       "\n",
       "                    $(\"#pm_labelbcba0c90\").text(\"Downloaded 90112 of 156197 bytes\");\n",
       "                    $(\"#pm_progressbcba0c90\").attr(\"value\", 57.69);\n",
       "                "
      ],
      "text/plain": [
       "<IPython.core.display.Javascript object>"
      ]
     },
     "metadata": {},
     "output_type": "display_data"
    },
    {
     "data": {
      "application/javascript": [
       "\n",
       "                    $(\"#pm_labelbcba0c90\").text(\"Downloaded 98304 of 156197 bytes\");\n",
       "                    $(\"#pm_progressbcba0c90\").attr(\"value\", 62.94);\n",
       "                "
      ],
      "text/plain": [
       "<IPython.core.display.Javascript object>"
      ]
     },
     "metadata": {},
     "output_type": "display_data"
    },
    {
     "data": {
      "application/javascript": [
       "\n",
       "                    $(\"#pm_labelbcba0c90\").text(\"Downloaded 106496 of 156197 bytes\");\n",
       "                    $(\"#pm_progressbcba0c90\").attr(\"value\", 68.18);\n",
       "                "
      ],
      "text/plain": [
       "<IPython.core.display.Javascript object>"
      ]
     },
     "metadata": {},
     "output_type": "display_data"
    },
    {
     "data": {
      "application/javascript": [
       "\n",
       "                    $(\"#pm_labelbcba0c90\").text(\"Downloaded 114688 of 156197 bytes\");\n",
       "                    $(\"#pm_progressbcba0c90\").attr(\"value\", 73.43);\n",
       "                "
      ],
      "text/plain": [
       "<IPython.core.display.Javascript object>"
      ]
     },
     "metadata": {},
     "output_type": "display_data"
    },
    {
     "data": {
      "application/javascript": [
       "\n",
       "                    $(\"#pm_labelbcba0c90\").text(\"Downloaded 122880 of 156197 bytes\");\n",
       "                    $(\"#pm_progressbcba0c90\").attr(\"value\", 78.67);\n",
       "                "
      ],
      "text/plain": [
       "<IPython.core.display.Javascript object>"
      ]
     },
     "metadata": {},
     "output_type": "display_data"
    },
    {
     "data": {
      "application/javascript": [
       "\n",
       "                    $(\"#pm_labelbcba0c90\").text(\"Downloaded 131072 of 156197 bytes\");\n",
       "                    $(\"#pm_progressbcba0c90\").attr(\"value\", 83.91);\n",
       "                "
      ],
      "text/plain": [
       "<IPython.core.display.Javascript object>"
      ]
     },
     "metadata": {},
     "output_type": "display_data"
    },
    {
     "data": {
      "application/javascript": [
       "\n",
       "                    $(\"#pm_labelbcba0c90\").text(\"Downloaded 139264 of 156197 bytes\");\n",
       "                    $(\"#pm_progressbcba0c90\").attr(\"value\", 89.16);\n",
       "                "
      ],
      "text/plain": [
       "<IPython.core.display.Javascript object>"
      ]
     },
     "metadata": {},
     "output_type": "display_data"
    },
    {
     "data": {
      "application/javascript": [
       "\n",
       "                    $(\"#pm_labelbcba0c90\").text(\"Downloaded 147456 of 156197 bytes\");\n",
       "                    $(\"#pm_progressbcba0c90\").attr(\"value\", 94.4);\n",
       "                "
      ],
      "text/plain": [
       "<IPython.core.display.Javascript object>"
      ]
     },
     "metadata": {},
     "output_type": "display_data"
    },
    {
     "data": {
      "application/javascript": [
       "\n",
       "                    $(\"#pm_labelbcba0c90\").text(\"Downloaded 155648 of 156197 bytes\");\n",
       "                    $(\"#pm_progressbcba0c90\").attr(\"value\", 99.65);\n",
       "                "
      ],
      "text/plain": [
       "<IPython.core.display.Javascript object>"
      ]
     },
     "metadata": {},
     "output_type": "display_data"
    },
    {
     "data": {
      "application/javascript": [
       "\n",
       "                    $(\"#pm_labelbcba0c90\").text(\"Downloaded 156197 of 156197 bytes\");\n",
       "                    $(\"#pm_progressbcba0c90\").attr(\"value\", 100.0);\n",
       "                "
      ],
      "text/plain": [
       "<IPython.core.display.Javascript object>"
      ]
     },
     "metadata": {},
     "output_type": "display_data"
    },
    {
     "name": "stdout",
     "output_type": "stream",
     "text": [
      "Package org.scalaj:scalaj-http_2.11:2.3.0 downloaded successfully\n",
      "\u001b[31mPlease restart Kernel to complete installation of the new package\u001b[0m\n",
      "Successfully added package org.scalaj:scalaj-http_2.11:2.3.0\n",
      "Downloading package com.typesafe.play:play-functional_2.11:2.5.9 to /gpfs/fs01/user/s381-b331ce22a78de0-820fdb2800e9/data/libs/play-functional_2.11-2.5.9.jar\n"
     ]
    },
    {
     "data": {
      "text/html": [
       "\n",
       "                <div>\n",
       "                    <span id=\"pm_label9bd598d5\">Starting download...</span>\n",
       "                    <progress id=\"pm_progress9bd598d5\" max=\"100\" value=\"0\" style=\"width:200px\"></progress>\n",
       "                </div>"
      ],
      "text/plain": [
       "<IPython.core.display.HTML object>"
      ]
     },
     "metadata": {},
     "output_type": "display_data"
    },
    {
     "data": {
      "application/javascript": [
       "\n",
       "                    $(\"#pm_label9bd598d5\").text(\"Downloaded 8192 of 411037 bytes\");\n",
       "                    $(\"#pm_progress9bd598d5\").attr(\"value\", 1.99);\n",
       "                "
      ],
      "text/plain": [
       "<IPython.core.display.Javascript object>"
      ]
     },
     "metadata": {},
     "output_type": "display_data"
    },
    {
     "data": {
      "application/javascript": [
       "\n",
       "                    $(\"#pm_label9bd598d5\").text(\"Downloaded 16384 of 411037 bytes\");\n",
       "                    $(\"#pm_progress9bd598d5\").attr(\"value\", 3.99);\n",
       "                "
      ],
      "text/plain": [
       "<IPython.core.display.Javascript object>"
      ]
     },
     "metadata": {},
     "output_type": "display_data"
    },
    {
     "data": {
      "application/javascript": [
       "\n",
       "                    $(\"#pm_label9bd598d5\").text(\"Downloaded 24576 of 411037 bytes\");\n",
       "                    $(\"#pm_progress9bd598d5\").attr(\"value\", 5.98);\n",
       "                "
      ],
      "text/plain": [
       "<IPython.core.display.Javascript object>"
      ]
     },
     "metadata": {},
     "output_type": "display_data"
    },
    {
     "data": {
      "application/javascript": [
       "\n",
       "                    $(\"#pm_label9bd598d5\").text(\"Downloaded 32768 of 411037 bytes\");\n",
       "                    $(\"#pm_progress9bd598d5\").attr(\"value\", 7.97);\n",
       "                "
      ],
      "text/plain": [
       "<IPython.core.display.Javascript object>"
      ]
     },
     "metadata": {},
     "output_type": "display_data"
    },
    {
     "data": {
      "application/javascript": [
       "\n",
       "                    $(\"#pm_label9bd598d5\").text(\"Downloaded 40960 of 411037 bytes\");\n",
       "                    $(\"#pm_progress9bd598d5\").attr(\"value\", 9.97);\n",
       "                "
      ],
      "text/plain": [
       "<IPython.core.display.Javascript object>"
      ]
     },
     "metadata": {},
     "output_type": "display_data"
    },
    {
     "data": {
      "application/javascript": [
       "\n",
       "                    $(\"#pm_label9bd598d5\").text(\"Downloaded 49152 of 411037 bytes\");\n",
       "                    $(\"#pm_progress9bd598d5\").attr(\"value\", 11.96);\n",
       "                "
      ],
      "text/plain": [
       "<IPython.core.display.Javascript object>"
      ]
     },
     "metadata": {},
     "output_type": "display_data"
    },
    {
     "data": {
      "application/javascript": [
       "\n",
       "                    $(\"#pm_label9bd598d5\").text(\"Downloaded 57344 of 411037 bytes\");\n",
       "                    $(\"#pm_progress9bd598d5\").attr(\"value\", 13.95);\n",
       "                "
      ],
      "text/plain": [
       "<IPython.core.display.Javascript object>"
      ]
     },
     "metadata": {},
     "output_type": "display_data"
    },
    {
     "data": {
      "application/javascript": [
       "\n",
       "                    $(\"#pm_label9bd598d5\").text(\"Downloaded 65536 of 411037 bytes\");\n",
       "                    $(\"#pm_progress9bd598d5\").attr(\"value\", 15.94);\n",
       "                "
      ],
      "text/plain": [
       "<IPython.core.display.Javascript object>"
      ]
     },
     "metadata": {},
     "output_type": "display_data"
    },
    {
     "data": {
      "application/javascript": [
       "\n",
       "                    $(\"#pm_label9bd598d5\").text(\"Downloaded 73728 of 411037 bytes\");\n",
       "                    $(\"#pm_progress9bd598d5\").attr(\"value\", 17.94);\n",
       "                "
      ],
      "text/plain": [
       "<IPython.core.display.Javascript object>"
      ]
     },
     "metadata": {},
     "output_type": "display_data"
    },
    {
     "data": {
      "application/javascript": [
       "\n",
       "                    $(\"#pm_label9bd598d5\").text(\"Downloaded 81920 of 411037 bytes\");\n",
       "                    $(\"#pm_progress9bd598d5\").attr(\"value\", 19.93);\n",
       "                "
      ],
      "text/plain": [
       "<IPython.core.display.Javascript object>"
      ]
     },
     "metadata": {},
     "output_type": "display_data"
    },
    {
     "data": {
      "application/javascript": [
       "\n",
       "                    $(\"#pm_label9bd598d5\").text(\"Downloaded 90112 of 411037 bytes\");\n",
       "                    $(\"#pm_progress9bd598d5\").attr(\"value\", 21.92);\n",
       "                "
      ],
      "text/plain": [
       "<IPython.core.display.Javascript object>"
      ]
     },
     "metadata": {},
     "output_type": "display_data"
    },
    {
     "data": {
      "application/javascript": [
       "\n",
       "                    $(\"#pm_label9bd598d5\").text(\"Downloaded 98304 of 411037 bytes\");\n",
       "                    $(\"#pm_progress9bd598d5\").attr(\"value\", 23.92);\n",
       "                "
      ],
      "text/plain": [
       "<IPython.core.display.Javascript object>"
      ]
     },
     "metadata": {},
     "output_type": "display_data"
    },
    {
     "data": {
      "application/javascript": [
       "\n",
       "                    $(\"#pm_label9bd598d5\").text(\"Downloaded 106496 of 411037 bytes\");\n",
       "                    $(\"#pm_progress9bd598d5\").attr(\"value\", 25.91);\n",
       "                "
      ],
      "text/plain": [
       "<IPython.core.display.Javascript object>"
      ]
     },
     "metadata": {},
     "output_type": "display_data"
    },
    {
     "data": {
      "application/javascript": [
       "\n",
       "                    $(\"#pm_label9bd598d5\").text(\"Downloaded 114688 of 411037 bytes\");\n",
       "                    $(\"#pm_progress9bd598d5\").attr(\"value\", 27.9);\n",
       "                "
      ],
      "text/plain": [
       "<IPython.core.display.Javascript object>"
      ]
     },
     "metadata": {},
     "output_type": "display_data"
    },
    {
     "data": {
      "application/javascript": [
       "\n",
       "                    $(\"#pm_label9bd598d5\").text(\"Downloaded 122880 of 411037 bytes\");\n",
       "                    $(\"#pm_progress9bd598d5\").attr(\"value\", 29.9);\n",
       "                "
      ],
      "text/plain": [
       "<IPython.core.display.Javascript object>"
      ]
     },
     "metadata": {},
     "output_type": "display_data"
    },
    {
     "data": {
      "application/javascript": [
       "\n",
       "                    $(\"#pm_label9bd598d5\").text(\"Downloaded 131072 of 411037 bytes\");\n",
       "                    $(\"#pm_progress9bd598d5\").attr(\"value\", 31.89);\n",
       "                "
      ],
      "text/plain": [
       "<IPython.core.display.Javascript object>"
      ]
     },
     "metadata": {},
     "output_type": "display_data"
    },
    {
     "data": {
      "application/javascript": [
       "\n",
       "                    $(\"#pm_label9bd598d5\").text(\"Downloaded 139264 of 411037 bytes\");\n",
       "                    $(\"#pm_progress9bd598d5\").attr(\"value\", 33.88);\n",
       "                "
      ],
      "text/plain": [
       "<IPython.core.display.Javascript object>"
      ]
     },
     "metadata": {},
     "output_type": "display_data"
    },
    {
     "data": {
      "application/javascript": [
       "\n",
       "                    $(\"#pm_label9bd598d5\").text(\"Downloaded 147456 of 411037 bytes\");\n",
       "                    $(\"#pm_progress9bd598d5\").attr(\"value\", 35.87);\n",
       "                "
      ],
      "text/plain": [
       "<IPython.core.display.Javascript object>"
      ]
     },
     "metadata": {},
     "output_type": "display_data"
    },
    {
     "data": {
      "application/javascript": [
       "\n",
       "                    $(\"#pm_label9bd598d5\").text(\"Downloaded 155648 of 411037 bytes\");\n",
       "                    $(\"#pm_progress9bd598d5\").attr(\"value\", 37.87);\n",
       "                "
      ],
      "text/plain": [
       "<IPython.core.display.Javascript object>"
      ]
     },
     "metadata": {},
     "output_type": "display_data"
    },
    {
     "data": {
      "application/javascript": [
       "\n",
       "                    $(\"#pm_label9bd598d5\").text(\"Downloaded 163840 of 411037 bytes\");\n",
       "                    $(\"#pm_progress9bd598d5\").attr(\"value\", 39.86);\n",
       "                "
      ],
      "text/plain": [
       "<IPython.core.display.Javascript object>"
      ]
     },
     "metadata": {},
     "output_type": "display_data"
    },
    {
     "data": {
      "application/javascript": [
       "\n",
       "                    $(\"#pm_label9bd598d5\").text(\"Downloaded 172032 of 411037 bytes\");\n",
       "                    $(\"#pm_progress9bd598d5\").attr(\"value\", 41.85);\n",
       "                "
      ],
      "text/plain": [
       "<IPython.core.display.Javascript object>"
      ]
     },
     "metadata": {},
     "output_type": "display_data"
    },
    {
     "data": {
      "application/javascript": [
       "\n",
       "                    $(\"#pm_label9bd598d5\").text(\"Downloaded 180224 of 411037 bytes\");\n",
       "                    $(\"#pm_progress9bd598d5\").attr(\"value\", 43.85);\n",
       "                "
      ],
      "text/plain": [
       "<IPython.core.display.Javascript object>"
      ]
     },
     "metadata": {},
     "output_type": "display_data"
    },
    {
     "data": {
      "application/javascript": [
       "\n",
       "                    $(\"#pm_label9bd598d5\").text(\"Downloaded 188416 of 411037 bytes\");\n",
       "                    $(\"#pm_progress9bd598d5\").attr(\"value\", 45.84);\n",
       "                "
      ],
      "text/plain": [
       "<IPython.core.display.Javascript object>"
      ]
     },
     "metadata": {},
     "output_type": "display_data"
    },
    {
     "data": {
      "application/javascript": [
       "\n",
       "                    $(\"#pm_label9bd598d5\").text(\"Downloaded 196608 of 411037 bytes\");\n",
       "                    $(\"#pm_progress9bd598d5\").attr(\"value\", 47.83);\n",
       "                "
      ],
      "text/plain": [
       "<IPython.core.display.Javascript object>"
      ]
     },
     "metadata": {},
     "output_type": "display_data"
    },
    {
     "data": {
      "application/javascript": [
       "\n",
       "                    $(\"#pm_label9bd598d5\").text(\"Downloaded 204800 of 411037 bytes\");\n",
       "                    $(\"#pm_progress9bd598d5\").attr(\"value\", 49.83);\n",
       "                "
      ],
      "text/plain": [
       "<IPython.core.display.Javascript object>"
      ]
     },
     "metadata": {},
     "output_type": "display_data"
    },
    {
     "data": {
      "application/javascript": [
       "\n",
       "                    $(\"#pm_label9bd598d5\").text(\"Downloaded 212992 of 411037 bytes\");\n",
       "                    $(\"#pm_progress9bd598d5\").attr(\"value\", 51.82);\n",
       "                "
      ],
      "text/plain": [
       "<IPython.core.display.Javascript object>"
      ]
     },
     "metadata": {},
     "output_type": "display_data"
    },
    {
     "data": {
      "application/javascript": [
       "\n",
       "                    $(\"#pm_label9bd598d5\").text(\"Downloaded 221184 of 411037 bytes\");\n",
       "                    $(\"#pm_progress9bd598d5\").attr(\"value\", 53.81);\n",
       "                "
      ],
      "text/plain": [
       "<IPython.core.display.Javascript object>"
      ]
     },
     "metadata": {},
     "output_type": "display_data"
    },
    {
     "data": {
      "application/javascript": [
       "\n",
       "                    $(\"#pm_label9bd598d5\").text(\"Downloaded 229376 of 411037 bytes\");\n",
       "                    $(\"#pm_progress9bd598d5\").attr(\"value\", 55.8);\n",
       "                "
      ],
      "text/plain": [
       "<IPython.core.display.Javascript object>"
      ]
     },
     "metadata": {},
     "output_type": "display_data"
    },
    {
     "data": {
      "application/javascript": [
       "\n",
       "                    $(\"#pm_label9bd598d5\").text(\"Downloaded 237568 of 411037 bytes\");\n",
       "                    $(\"#pm_progress9bd598d5\").attr(\"value\", 57.8);\n",
       "                "
      ],
      "text/plain": [
       "<IPython.core.display.Javascript object>"
      ]
     },
     "metadata": {},
     "output_type": "display_data"
    },
    {
     "data": {
      "application/javascript": [
       "\n",
       "                    $(\"#pm_label9bd598d5\").text(\"Downloaded 245760 of 411037 bytes\");\n",
       "                    $(\"#pm_progress9bd598d5\").attr(\"value\", 59.79);\n",
       "                "
      ],
      "text/plain": [
       "<IPython.core.display.Javascript object>"
      ]
     },
     "metadata": {},
     "output_type": "display_data"
    },
    {
     "data": {
      "application/javascript": [
       "\n",
       "                    $(\"#pm_label9bd598d5\").text(\"Downloaded 253952 of 411037 bytes\");\n",
       "                    $(\"#pm_progress9bd598d5\").attr(\"value\", 61.78);\n",
       "                "
      ],
      "text/plain": [
       "<IPython.core.display.Javascript object>"
      ]
     },
     "metadata": {},
     "output_type": "display_data"
    },
    {
     "data": {
      "application/javascript": [
       "\n",
       "                    $(\"#pm_label9bd598d5\").text(\"Downloaded 262144 of 411037 bytes\");\n",
       "                    $(\"#pm_progress9bd598d5\").attr(\"value\", 63.78);\n",
       "                "
      ],
      "text/plain": [
       "<IPython.core.display.Javascript object>"
      ]
     },
     "metadata": {},
     "output_type": "display_data"
    },
    {
     "data": {
      "application/javascript": [
       "\n",
       "                    $(\"#pm_label9bd598d5\").text(\"Downloaded 270336 of 411037 bytes\");\n",
       "                    $(\"#pm_progress9bd598d5\").attr(\"value\", 65.77);\n",
       "                "
      ],
      "text/plain": [
       "<IPython.core.display.Javascript object>"
      ]
     },
     "metadata": {},
     "output_type": "display_data"
    },
    {
     "data": {
      "application/javascript": [
       "\n",
       "                    $(\"#pm_label9bd598d5\").text(\"Downloaded 278528 of 411037 bytes\");\n",
       "                    $(\"#pm_progress9bd598d5\").attr(\"value\", 67.76);\n",
       "                "
      ],
      "text/plain": [
       "<IPython.core.display.Javascript object>"
      ]
     },
     "metadata": {},
     "output_type": "display_data"
    },
    {
     "data": {
      "application/javascript": [
       "\n",
       "                    $(\"#pm_label9bd598d5\").text(\"Downloaded 286720 of 411037 bytes\");\n",
       "                    $(\"#pm_progress9bd598d5\").attr(\"value\", 69.76);\n",
       "                "
      ],
      "text/plain": [
       "<IPython.core.display.Javascript object>"
      ]
     },
     "metadata": {},
     "output_type": "display_data"
    },
    {
     "data": {
      "application/javascript": [
       "\n",
       "                    $(\"#pm_label9bd598d5\").text(\"Downloaded 294912 of 411037 bytes\");\n",
       "                    $(\"#pm_progress9bd598d5\").attr(\"value\", 71.75);\n",
       "                "
      ],
      "text/plain": [
       "<IPython.core.display.Javascript object>"
      ]
     },
     "metadata": {},
     "output_type": "display_data"
    },
    {
     "data": {
      "application/javascript": [
       "\n",
       "                    $(\"#pm_label9bd598d5\").text(\"Downloaded 303104 of 411037 bytes\");\n",
       "                    $(\"#pm_progress9bd598d5\").attr(\"value\", 73.74);\n",
       "                "
      ],
      "text/plain": [
       "<IPython.core.display.Javascript object>"
      ]
     },
     "metadata": {},
     "output_type": "display_data"
    },
    {
     "data": {
      "application/javascript": [
       "\n",
       "                    $(\"#pm_label9bd598d5\").text(\"Downloaded 311296 of 411037 bytes\");\n",
       "                    $(\"#pm_progress9bd598d5\").attr(\"value\", 75.73);\n",
       "                "
      ],
      "text/plain": [
       "<IPython.core.display.Javascript object>"
      ]
     },
     "metadata": {},
     "output_type": "display_data"
    },
    {
     "data": {
      "application/javascript": [
       "\n",
       "                    $(\"#pm_label9bd598d5\").text(\"Downloaded 319488 of 411037 bytes\");\n",
       "                    $(\"#pm_progress9bd598d5\").attr(\"value\", 77.73);\n",
       "                "
      ],
      "text/plain": [
       "<IPython.core.display.Javascript object>"
      ]
     },
     "metadata": {},
     "output_type": "display_data"
    },
    {
     "data": {
      "application/javascript": [
       "\n",
       "                    $(\"#pm_label9bd598d5\").text(\"Downloaded 327680 of 411037 bytes\");\n",
       "                    $(\"#pm_progress9bd598d5\").attr(\"value\", 79.72);\n",
       "                "
      ],
      "text/plain": [
       "<IPython.core.display.Javascript object>"
      ]
     },
     "metadata": {},
     "output_type": "display_data"
    },
    {
     "data": {
      "application/javascript": [
       "\n",
       "                    $(\"#pm_label9bd598d5\").text(\"Downloaded 335872 of 411037 bytes\");\n",
       "                    $(\"#pm_progress9bd598d5\").attr(\"value\", 81.71);\n",
       "                "
      ],
      "text/plain": [
       "<IPython.core.display.Javascript object>"
      ]
     },
     "metadata": {},
     "output_type": "display_data"
    },
    {
     "data": {
      "application/javascript": [
       "\n",
       "                    $(\"#pm_label9bd598d5\").text(\"Downloaded 344064 of 411037 bytes\");\n",
       "                    $(\"#pm_progress9bd598d5\").attr(\"value\", 83.71);\n",
       "                "
      ],
      "text/plain": [
       "<IPython.core.display.Javascript object>"
      ]
     },
     "metadata": {},
     "output_type": "display_data"
    },
    {
     "data": {
      "application/javascript": [
       "\n",
       "                    $(\"#pm_label9bd598d5\").text(\"Downloaded 352256 of 411037 bytes\");\n",
       "                    $(\"#pm_progress9bd598d5\").attr(\"value\", 85.7);\n",
       "                "
      ],
      "text/plain": [
       "<IPython.core.display.Javascript object>"
      ]
     },
     "metadata": {},
     "output_type": "display_data"
    },
    {
     "data": {
      "application/javascript": [
       "\n",
       "                    $(\"#pm_label9bd598d5\").text(\"Downloaded 360448 of 411037 bytes\");\n",
       "                    $(\"#pm_progress9bd598d5\").attr(\"value\", 87.69);\n",
       "                "
      ],
      "text/plain": [
       "<IPython.core.display.Javascript object>"
      ]
     },
     "metadata": {},
     "output_type": "display_data"
    },
    {
     "data": {
      "application/javascript": [
       "\n",
       "                    $(\"#pm_label9bd598d5\").text(\"Downloaded 368640 of 411037 bytes\");\n",
       "                    $(\"#pm_progress9bd598d5\").attr(\"value\", 89.69);\n",
       "                "
      ],
      "text/plain": [
       "<IPython.core.display.Javascript object>"
      ]
     },
     "metadata": {},
     "output_type": "display_data"
    },
    {
     "data": {
      "application/javascript": [
       "\n",
       "                    $(\"#pm_label9bd598d5\").text(\"Downloaded 376832 of 411037 bytes\");\n",
       "                    $(\"#pm_progress9bd598d5\").attr(\"value\", 91.68);\n",
       "                "
      ],
      "text/plain": [
       "<IPython.core.display.Javascript object>"
      ]
     },
     "metadata": {},
     "output_type": "display_data"
    },
    {
     "data": {
      "application/javascript": [
       "\n",
       "                    $(\"#pm_label9bd598d5\").text(\"Downloaded 385024 of 411037 bytes\");\n",
       "                    $(\"#pm_progress9bd598d5\").attr(\"value\", 93.67);\n",
       "                "
      ],
      "text/plain": [
       "<IPython.core.display.Javascript object>"
      ]
     },
     "metadata": {},
     "output_type": "display_data"
    },
    {
     "data": {
      "application/javascript": [
       "\n",
       "                    $(\"#pm_label9bd598d5\").text(\"Downloaded 393216 of 411037 bytes\");\n",
       "                    $(\"#pm_progress9bd598d5\").attr(\"value\", 95.66);\n",
       "                "
      ],
      "text/plain": [
       "<IPython.core.display.Javascript object>"
      ]
     },
     "metadata": {},
     "output_type": "display_data"
    },
    {
     "data": {
      "application/javascript": [
       "\n",
       "                    $(\"#pm_label9bd598d5\").text(\"Downloaded 401408 of 411037 bytes\");\n",
       "                    $(\"#pm_progress9bd598d5\").attr(\"value\", 97.66);\n",
       "                "
      ],
      "text/plain": [
       "<IPython.core.display.Javascript object>"
      ]
     },
     "metadata": {},
     "output_type": "display_data"
    },
    {
     "data": {
      "application/javascript": [
       "\n",
       "                    $(\"#pm_label9bd598d5\").text(\"Downloaded 409600 of 411037 bytes\");\n",
       "                    $(\"#pm_progress9bd598d5\").attr(\"value\", 99.65);\n",
       "                "
      ],
      "text/plain": [
       "<IPython.core.display.Javascript object>"
      ]
     },
     "metadata": {},
     "output_type": "display_data"
    },
    {
     "data": {
      "application/javascript": [
       "\n",
       "                    $(\"#pm_label9bd598d5\").text(\"Downloaded 411037 of 411037 bytes\");\n",
       "                    $(\"#pm_progress9bd598d5\").attr(\"value\", 100.0);\n",
       "                "
      ],
      "text/plain": [
       "<IPython.core.display.Javascript object>"
      ]
     },
     "metadata": {},
     "output_type": "display_data"
    },
    {
     "name": "stdout",
     "output_type": "stream",
     "text": [
      "Package com.typesafe.play:play-functional_2.11:2.5.9 downloaded successfully\n",
      "\u001b[31mPlease restart Kernel to complete installation of the new package\u001b[0m\n",
      "Successfully added package com.typesafe.play:play-functional_2.11:2.5.9\n"
     ]
    },
    {
     "data": {
      "text/plain": [
       "<pixiedust.packageManager.package.Package at 0x7f345099ef28>"
      ]
     },
     "execution_count": 1,
     "metadata": {},
     "output_type": "execute_result"
    }
   ],
   "source": [
    "import pixiedust\n",
    "pixiedust.installPackage(\"https://github.com/romeokienzler/developerWorks/raw/master/coursera/spark-sql-cloudant_2.11-2.3.0-SNAPSHOT.jar\")\n",
    "pixiedust.installPackage(\"com.typesafe:config:1.3.1\")\n",
    "pixiedust.installPackage(\"com.typesafe.play:play-json_2.11:jar:2.5.9\")\n",
    "pixiedust.installPackage(\"org.scalaj:scalaj-http_2.11:jar:2.3.0\")\n",
    "pixiedust.installPackage(\"com.typesafe.play:play-functional_2.11:jar:2.5.9\")"
   ]
  }
 ],
 "metadata": {
  "kernelspec": {
   "display_name": "Python 3",
   "language": "python",
   "name": "python3"
  },
  "language_info": {
   "codemirror_mode": {
    "name": "ipython",
    "version": 3
   },
   "file_extension": ".py",
   "mimetype": "text/x-python",
   "name": "python",
   "nbconvert_exporter": "python",
   "pygments_lexer": "ipython3",
   "version": "3.6.6"
  }
 },
 "nbformat": 4,
 "nbformat_minor": 1
}
